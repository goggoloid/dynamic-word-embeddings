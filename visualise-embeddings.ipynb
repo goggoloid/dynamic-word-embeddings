{
 "cells": [
  {
   "cell_type": "code",
   "execution_count": 1,
   "metadata": {},
   "outputs": [],
   "source": [
    "import gensim\n",
    "from gensim.models import KeyedVectors\n",
    "import collections\n",
    "from collections import OrderedDict\n",
    "import os\n",
    "\n"
   ]
  },
  {
   "cell_type": "code",
   "execution_count": 2,
   "metadata": {},
   "outputs": [],
   "source": [
    "path = '/home/ayan-yue/Documents/projects/dynamic-word-embeddings/diachronic-models/'"
   ]
  },
  {
   "cell_type": "code",
   "execution_count": 3,
   "metadata": {},
   "outputs": [],
   "source": [
    "dyn_vec = OrderedDict()\n",
    "t = 19\n",
    "\n",
    "for i in range(t):\n",
    "    for file in os.listdir(path):\n",
    "        filename = os.path.join(path, file)\n",
    "        \n",
    "        if os.path.basename(filename).split('.')[0][1:] == str(i):\n",
    "            dyn_vec['t{0}'.format(i)] = KeyedVectors.load(filename)\n",
    "    \n",
    "    "
   ]
  },
  {
   "cell_type": "code",
   "execution_count": 4,
   "metadata": {},
   "outputs": [],
   "source": [
    "import pickle\n",
    "\n",
    "with open('pickled_d', 'rb') as fp:\n",
    "    d = pickle.load(fp)\n"
   ]
  },
  {
   "cell_type": "code",
   "execution_count": 5,
   "metadata": {},
   "outputs": [],
   "source": [
    "for key in d:\n",
    "    d[key] = d[key].split(' ')\n",
    "    "
   ]
  },
  {
   "cell_type": "code",
   "execution_count": 21,
   "metadata": {},
   "outputs": [],
   "source": [
    "def vocab_search(string):\n",
    "    \n",
    "    slices = []\n",
    "    for key in d:\n",
    "        for i in range(len(d[key])):\n",
    "            if d[key][i] == string:\n",
    "                slices.append(key)\n",
    "                break\n",
    "    \n",
    "    return slices\n",
    "            "
   ]
  },
  {
   "cell_type": "code",
   "execution_count": 22,
   "metadata": {},
   "outputs": [
    {
     "data": {
      "text/plain": [
       "['t0',\n",
       " 't2',\n",
       " 't4',\n",
       " 't5',\n",
       " 't6',\n",
       " 't7',\n",
       " 't8',\n",
       " 't9',\n",
       " 't10',\n",
       " 't11',\n",
       " 't12',\n",
       " 't13',\n",
       " 't15',\n",
       " 't16',\n",
       " 't17',\n",
       " 't18']"
      ]
     },
     "execution_count": 22,
     "metadata": {},
     "output_type": "execute_result"
    }
   ],
   "source": [
    "vocab_search('government')"
   ]
  },
  {
   "cell_type": "code",
   "execution_count": 25,
   "metadata": {},
   "outputs": [
    {
     "name": "stderr",
     "output_type": "stream",
     "text": [
      "/home/ayan-yue/Documents/projects/env1/local/lib/python3.6/site-packages/ipykernel_launcher.py:1: DeprecationWarning: Call to deprecated `most_similar` (Method will be removed in 4.0.0, use self.wv.most_similar() instead).\n",
      "  \"\"\"Entry point for launching an IPython kernel.\n"
     ]
    },
    {
     "data": {
      "text/plain": [
       "[('figure,', 0.989435076713562),\n",
       " ('stages', 0.9841992855072021),\n",
       " ('approximately', 0.98386549949646),\n",
       " ('office.', 0.9837332963943481),\n",
       " ('nhmf', 0.983287513256073),\n",
       " ('home', 0.982962965965271),\n",
       " ('successive', 0.982195258140564),\n",
       " ('artist’s', 0.9821171164512634),\n",
       " ('extensive', 0.9819861650466919),\n",
       " ('who', 0.9817845225334167)]"
      ]
     },
     "execution_count": 25,
     "metadata": {},
     "output_type": "execute_result"
    }
   ],
   "source": [
    "dyn_vec['t18'].most_similar('government')"
   ]
  },
  {
   "cell_type": "code",
   "execution_count": null,
   "metadata": {},
   "outputs": [],
   "source": []
  }
 ],
 "metadata": {
  "kernelspec": {
   "display_name": "env1",
   "language": "python",
   "name": "env1"
  },
  "language_info": {
   "codemirror_mode": {
    "name": "ipython",
    "version": 3
   },
   "file_extension": ".py",
   "mimetype": "text/x-python",
   "name": "python",
   "nbconvert_exporter": "python",
   "pygments_lexer": "ipython3",
   "version": "3.6.8"
  }
 },
 "nbformat": 4,
 "nbformat_minor": 2
}

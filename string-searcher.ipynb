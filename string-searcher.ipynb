{
 "cells": [
  {
   "cell_type": "code",
   "execution_count": null,
   "metadata": {},
   "outputs": [],
   "source": [
    "import os\n",
    "import collections\n",
    "import re\n",
    "\n",
    "from collections import deque"
   ]
  },
  {
   "cell_type": "code",
   "execution_count": null,
   "metadata": {},
   "outputs": [],
   "source": [
    "disk = '/home/ayan-yue'\n",
    "genre_dir = '/Documents/projects/dynamic-word-embeddings/genres'\n",
    "path = disk + genre_dir"
   ]
  },
  {
   "cell_type": "code",
   "execution_count": null,
   "metadata": {},
   "outputs": [],
   "source": [
    "def string_searcher(string, year, path, any_word=False, any_location=False, cntxt_srch=False, win_size=None, cntxt_inter=2):\n",
    "    \n",
    "    regex = re.compile('[^a-zA-Z]')\n",
    "    string_list = string.split()\n",
    "    \n",
    "    if cntxt_srch:\n",
    "    \n",
    "        query_word = string_list[0]\n",
    "    \n",
    "    else:\n",
    "        \n",
    "        win_size = len(string_list)\n",
    "     \n",
    "    for file in os.listdir(path):\n",
    "        \n",
    "        filename = os.path.join(path, file)\n",
    "        \n",
    "        if os.path.basename(filename).startswith(str(year)):\n",
    "        \n",
    "            with open(filename, 'r', encoding='utf8', errors='ignore') as doc:\n",
    "\n",
    "                doc_list = regex.sub(' ', str(doc.read())).split()\n",
    "                \n",
    "                windows = []\n",
    "                window = deque(maxlen=win_size)\n",
    "                for word in doc_list:\n",
    "                        \n",
    "                    window.append(word)\n",
    "                    \n",
    "                    if len(list(window)) == win_size:\n",
    "                        \n",
    "                        windows.append(list(window))\n",
    "\n",
    "            if any_word:\n",
    "            \n",
    "                for item in string_list:\n",
    "\n",
    "                    if item in doc_list:\n",
    "\n",
    "                        print(item + ' in ' + file)\n",
    "                        print('\\n')\n",
    "                        \n",
    "            if any_location:\n",
    "                \n",
    "                if all(item in doc_list for item in string_list):\n",
    "                    \n",
    "                    print(str(string_list) + ' is in ' + file)\n",
    "                    print('\\n')\n",
    "              \n",
    "            if cntxt_srch:\n",
    "                \n",
    "                str_set = set(string_list)\n",
    "                  \n",
    "                for window in windows:\n",
    "                     \n",
    "                    win_set =  set(window)\n",
    "        \n",
    "                    if query_word in str_set.intersection(win_set) and len(str_set.intersection(win_set)) >= cntxt_inter:\n",
    "                \n",
    "                        cntxt_list = string_list\n",
    "                        cntxt_list.pop(0)\n",
    "                        print('At least ' + str(cntxt_inter - 1) + ' word(s) in ' + str(cntxt_list) + ' within ' + str(win_size) + ' words of ' + '\"' + query_word + '\"' + ' in ' + file + '.')\n",
    "                        print('\\n')\n",
    "                        break\n",
    "                    \n",
    "            else:\n",
    "                \n",
    "                for window in windows:\n",
    "                    \n",
    "                    if string_list == window:\n",
    "                \n",
    "                        print('\"' + string + '\"' + ' is in ' + file)\n",
    "                        print('\\n')\n",
    "                        break\n"
   ]
  },
  {
   "cell_type": "code",
   "execution_count": null,
   "metadata": {},
   "outputs": [],
   "source": [
    "startyear = 2010\n",
    "n = 10\n",
    "\n",
    "for genre in os.listdir(path):\n",
    "    \n",
    "    gpath = disk + genre_dir + '/' + genre\n",
    "\n",
    "    for i in range(n):\n",
    "\n",
    "        string_searcher('cyber resilience security threat attack attacks', startyear + i, gpath, cntxt_srch=True, win_size=10, cntxt_inter=3)\n",
    "        print(genre + ' ' + str(startyear + i) + ' complete.')\n",
    "        print('\\n')"
   ]
  },
  {
   "cell_type": "code",
   "execution_count": null,
   "metadata": {},
   "outputs": [],
   "source": [
    "startyear = 2010\n",
    "n = 10\n",
    "\n",
    "for genre in os.listdir(path):\n",
    "    \n",
    "    gpath = disk + genre_dir + '/' + genre\n",
    "\n",
    "    for i in range(n):\n",
    "\n",
    "        string_searcher('cyber', startyear + i, gpath)\n",
    "        print(genre + ' ' + str(startyear + i) + ' complete.')\n",
    "        print('\\n')"
   ]
  },
  {
   "cell_type": "code",
   "execution_count": null,
   "metadata": {},
   "outputs": [],
   "source": []
  }
 ],
 "metadata": {
  "kernelspec": {
   "display_name": "env1",
   "language": "python",
   "name": "env1"
  },
  "language_info": {
   "codemirror_mode": {
    "name": "ipython",
    "version": 3
   },
   "file_extension": ".py",
   "mimetype": "text/x-python",
   "name": "python",
   "nbconvert_exporter": "python",
   "pygments_lexer": "ipython3",
   "version": "3.6.8"
  }
 },
 "nbformat": 4,
 "nbformat_minor": 2
}

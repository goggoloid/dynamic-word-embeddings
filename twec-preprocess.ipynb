{
 "cells": [
  {
   "cell_type": "code",
   "execution_count": 1,
   "metadata": {},
   "outputs": [],
   "source": [
    "import collections\n",
    "import os\n",
    "import re\n",
    "import gensim\n",
    "\n",
    "from gensim.parsing.preprocessing import remove_stopwords\n",
    "from collections import OrderedDict"
   ]
  },
  {
   "cell_type": "code",
   "execution_count": 2,
   "metadata": {},
   "outputs": [],
   "source": [
    "#preprocess and load data into timeslices\n",
    "\n",
    "\n",
    "d = OrderedDict()\n",
    "regex = re.compile('[^a-zA-Z]')\n",
    "\n",
    "def preprocess(path, startyear, t):\n",
    "\n",
    "    for i in range(t):\n",
    "        d['{}'.format(startyear + i)] = ' '\n",
    "        for file in os.listdir(path):\n",
    "            filename = os.path.join(path, file)\n",
    "            if os.path.basename(filename).startswith(str(startyear + i)):\n",
    "                with open(filename, 'r', encoding='utf8', errors='ignore') as doc:\n",
    "                    string = str(doc.read())\n",
    "                    \n",
    "                    string = string.replace('\\n', ' ')\n",
    "                    string = string.replace('\\t', ' ')\n",
    "                    string = string.replace('\\x07', ' ')\n",
    "                    string = string.replace('\\x0c', ' ')\n",
    "                    \n",
    "                    string = regex.sub(' ', string)\n",
    "                    string = remove_stopwords(string)\n",
    "                    \n",
    "                    string = ' '.join(string.split()) \n",
    "                    string = string.lower()                    \n",
    "                    \n",
    "                          \n",
    "                    d['{}'.format(startyear + i)] += string               \n",
    "                    \n",
    "   \n",
    "                \n",
    "              \n",
    "                     \n",
    "            "
   ]
  },
  {
   "cell_type": "code",
   "execution_count": 3,
   "metadata": {},
   "outputs": [],
   "source": [
    "#string = string.replace('©', ' ')\n",
    "#string = string.replace('•', ' ')\n",
    "#string = string.replace('●', '')"
   ]
  },
  {
   "cell_type": "code",
   "execution_count": 4,
   "metadata": {
    "scrolled": true
   },
   "outputs": [],
   "source": [
    "t = 19\n",
    "startyear = 2001\n",
    "path = '/home/ayan-yue/Documents/projects/dcms/dcms-crisis-recession-innovation-resilience'\n",
    "\n",
    "preprocess(path, startyear, t)"
   ]
  },
  {
   "cell_type": "code",
   "execution_count": 5,
   "metadata": {},
   "outputs": [
    {
     "data": {
      "text/plain": [
       "['2001',\n",
       " '2002',\n",
       " '2003',\n",
       " '2004',\n",
       " '2005',\n",
       " '2006',\n",
       " '2007',\n",
       " '2008',\n",
       " '2009',\n",
       " '2010',\n",
       " '2011',\n",
       " '2012',\n",
       " '2013',\n",
       " '2014',\n",
       " '2015',\n",
       " '2016',\n",
       " '2017',\n",
       " '2018',\n",
       " '2019']"
      ]
     },
     "execution_count": 5,
     "metadata": {},
     "output_type": "execute_result"
    }
   ],
   "source": [
    "list(d.keys())"
   ]
  },
  {
   "cell_type": "code",
   "execution_count": 6,
   "metadata": {},
   "outputs": [],
   "source": [
    "path = '/home/ayan-yue/Documents/projects/dynamic-word-embeddings/dcms-crisis-recession-innovation-resilience/'\n",
    "for key in d:\n",
    "    with open(path + str(key) + '.txt', 'w+') as f:\n",
    "        f.write(d[key])\n",
    "        \n",
    "        "
   ]
  },
  {
   "cell_type": "code",
   "execution_count": 7,
   "metadata": {},
   "outputs": [],
   "source": [
    "import pickle\n",
    "\n",
    "with open('pickled-d-' + path.split('/')[-2], 'wb') as fp:\n",
    "    pickle.dump(d, fp)"
   ]
  },
  {
   "cell_type": "code",
   "execution_count": null,
   "metadata": {},
   "outputs": [],
   "source": []
  }
 ],
 "metadata": {
  "kernelspec": {
   "display_name": "env1",
   "language": "python",
   "name": "env1"
  },
  "language_info": {
   "codemirror_mode": {
    "name": "ipython",
    "version": 3
   },
   "file_extension": ".py",
   "mimetype": "text/x-python",
   "name": "python",
   "nbconvert_exporter": "python",
   "pygments_lexer": "ipython3",
   "version": "3.6.8"
  }
 },
 "nbformat": 4,
 "nbformat_minor": 2
}

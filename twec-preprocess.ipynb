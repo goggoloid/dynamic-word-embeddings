{
 "cells": [
  {
   "cell_type": "code",
   "execution_count": null,
   "metadata": {},
   "outputs": [],
   "source": [
    "import collections\n",
    "import os\n",
    "import re\n",
    "import gensim\n",
    "\n",
    "from gensim.parsing.preprocessing import remove_stopwords\n",
    "from collections import OrderedDict"
   ]
  },
  {
   "cell_type": "code",
   "execution_count": null,
   "metadata": {},
   "outputs": [],
   "source": [
    "#preprocess and load data into timeslices\n",
    "\n",
    "def preprocess(path, startyear, t):\n",
    "    \n",
    "    d = OrderedDict()\n",
    "    regex = re.compile('[^a-zA-Z]')\n",
    "\n",
    "    for i in range(t):\n",
    "        \n",
    "        d['{}'.format(startyear + i)] = ' '\n",
    "        for file in os.listdir(path):\n",
    "            \n",
    "            filename = os.path.join(path, file)\n",
    "            \n",
    "            if os.path.basename(filename).startswith(str(startyear + i)):\n",
    "                \n",
    "                with open(filename, 'r', encoding='utf8', errors='ignore') as doc:\n",
    "                    \n",
    "                    string = str(doc.read())\n",
    "                    \n",
    "                    string = string.replace('\\n', ' ')\n",
    "                    string = string.replace('\\t', ' ')\n",
    "                    string = string.replace('\\x07', ' ')\n",
    "                    string = string.replace('\\x0c', ' ')\n",
    "                    \n",
    "                    string = regex.sub(' ', string)\n",
    "                    string = remove_stopwords(string)\n",
    "                    \n",
    "                    string = ' '.join(string.split()) \n",
    "                    string = string.lower()                    \n",
    "                    \n",
    "                          \n",
    "                    d['{}'.format(startyear + i)] += string\n",
    "                    \n",
    "    return d\n",
    "                    \n",
    "   \n",
    "                \n",
    "              \n",
    "                     \n",
    "            "
   ]
  },
  {
   "cell_type": "code",
   "execution_count": null,
   "metadata": {},
   "outputs": [],
   "source": [
    "#string = string.replace('©', ' ')\n",
    "#string = string.replace('•', ' ')\n",
    "#string = string.replace('●', '')"
   ]
  },
  {
   "cell_type": "code",
   "execution_count": null,
   "metadata": {
    "scrolled": true
   },
   "outputs": [],
   "source": [
    "t = 10\n",
    "startyear = 2010\n",
    "\n",
    "genres = '/home/ayan-yue/Documents/projects/dynamic-word-embeddings/genres'\n",
    "\n",
    "d = OrderedDict()\n",
    "for file in os.listdir(genres):\n",
    "\n",
    "    path = genres + '/' + file\n",
    "    d[file] = preprocess(path, startyear, t)"
   ]
  },
  {
   "cell_type": "code",
   "execution_count": null,
   "metadata": {},
   "outputs": [],
   "source": [
    "genre_dir = '/home/ayan-yue/Documents/projects/dynamic-word-embeddings/genre-slices'\n",
    "    \n",
    "\n",
    "\n",
    "\n",
    "for genre in d:\n",
    "    \n",
    "    if not os.path.exists(genre_dir + '/' + genre):\n",
    "        \n",
    "        os.makedirs(genre_dir + '/' + genre)\n",
    "\n",
    "    for key in d[genre]:\n",
    "        \n",
    "        if d[genre][key] != ' ':\n",
    "        \n",
    "            with open(genre_dir + '/' + genre + '/' + str(key) + '.txt', 'w+') as f:\n",
    "\n",
    "                f.write(d[genre][key])\n",
    "        \n",
    "        "
   ]
  },
  {
   "cell_type": "code",
   "execution_count": null,
   "metadata": {},
   "outputs": [],
   "source": [
    "import pickle\n",
    "\n",
    "with open('pickled-d-' + path.split('/')[-2], 'wb') as fp:\n",
    "    \n",
    "    pickle.dump(d, fp)"
   ]
  },
  {
   "cell_type": "code",
   "execution_count": null,
   "metadata": {},
   "outputs": [],
   "source": []
  }
 ],
 "metadata": {
  "kernelspec": {
   "display_name": "env1",
   "language": "python",
   "name": "env1"
  },
  "language_info": {
   "codemirror_mode": {
    "name": "ipython",
    "version": 3
   },
   "file_extension": ".py",
   "mimetype": "text/x-python",
   "name": "python",
   "nbconvert_exporter": "python",
   "pygments_lexer": "ipython3",
   "version": "3.6.8"
  }
 },
 "nbformat": 4,
 "nbformat_minor": 2
}

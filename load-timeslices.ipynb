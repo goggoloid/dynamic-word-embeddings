{
 "cells": [
  {
   "cell_type": "code",
   "execution_count": 2,
   "metadata": {},
   "outputs": [],
   "source": [
    "import collections\n",
    "from collections import OrderedDict\n",
    "import os\n",
    "import re"
   ]
  },
  {
   "cell_type": "code",
   "execution_count": 3,
   "metadata": {},
   "outputs": [],
   "source": [
    "#preprocess and load data into timeslices\n",
    "\n",
    "t = 19\n",
    "startyear = 2001\n",
    "path = '/home/ayan-yue/Documents/projects/dynamic-word-embeddings/command-papers/txts/'\n",
    "d = OrderedDict()\n",
    "regex = re.compile('[^a-zA-Z]')\n",
    "\n",
    "for i in range(t):\n",
    "    string_i = ''\n",
    "    for file in os.listdir(path):\n",
    "        filename = os.path.join(path, file)\n",
    "        if os.path.basename(filename).startswith(str(startyear + i)):\n",
    "            with open(filename, 'r', encoding='utf8', errors='ignore') as doc:\n",
    "                string = str(doc.read())\n",
    "                string = string.replace('\\n', ' ')\n",
    "                string = string.replace('\\t', ' ')\n",
    "                string = string.replace('\\x07', ' ')\n",
    "                string = string.replace('\\x0c', ' ')\n",
    "                string = string.replace('©', ' ')\n",
    "                string = string.replace('•', ' ')\n",
    "                string = string.replace('●', '')\n",
    "                string = string.lower()\n",
    "                d['t{0}'.format(i)] = string_i + string\n",
    "                \n",
    "              \n",
    "                     \n",
    "            "
   ]
  },
  {
   "cell_type": "code",
   "execution_count": 4,
   "metadata": {},
   "outputs": [],
   "source": [
    "path = '/home/ayan-yue/Documents/projects/dynamic-word-embeddings/command-papers/slices/'\n",
    "for key in d:\n",
    "    with open(path + str(key) + '.txt', 'w+') as f:\n",
    "        f.write(d[key])\n",
    "        \n",
    "        "
   ]
  },
  {
   "cell_type": "code",
   "execution_count": 9,
   "metadata": {},
   "outputs": [],
   "source": [
    "import pickle\n",
    "\n",
    "with open('pickled_d', 'wb') as fp:\n",
    "    pickle.dump(d, fp)"
   ]
  },
  {
   "cell_type": "code",
   "execution_count": null,
   "metadata": {},
   "outputs": [],
   "source": []
  }
 ],
 "metadata": {
  "kernelspec": {
   "display_name": "env1",
   "language": "python",
   "name": "env1"
  },
  "language_info": {
   "codemirror_mode": {
    "name": "ipython",
    "version": 3
   },
   "file_extension": ".py",
   "mimetype": "text/x-python",
   "name": "python",
   "nbconvert_exporter": "python",
   "pygments_lexer": "ipython3",
   "version": "3.6.8"
  }
 },
 "nbformat": 4,
 "nbformat_minor": 2
}

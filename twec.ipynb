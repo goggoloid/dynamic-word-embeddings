{
 "cells": [
  {
   "cell_type": "code",
   "execution_count": null,
   "metadata": {},
   "outputs": [],
   "source": [
    "import subprocess\n",
    "import os"
   ]
  },
  {
   "cell_type": "code",
   "execution_count": null,
   "metadata": {},
   "outputs": [],
   "source": [
    "twec_dir = '/home/ayan-yue/Documents/projects/twec/'\n",
    "\n",
    "#args\n",
    "size = 300\n",
    "epochs = 10\n",
    "dyn_epochs = 10\n",
    "workers = 12\n",
    "\n",
    "genres_dir = '/home/ayan-yue/Documents/projects/dynamic-word-embeddings/genre-slices'\n",
    "os.chdir(twec_dir)\n",
    "\n",
    "for genre in os.listdir(genres_dir):\n",
    "\n",
    "    train = genres_dir + '/' + genre\n",
    "    o_path = '/home/ayan-yue/Documents/projects/dynamic-word-embeddings/genre-models' + '/' + genre\n",
    "        \n",
    "    if not os.path.exists(o_path):\n",
    "            \n",
    "        os.makedirs(o_path)\n",
    "    \n",
    "    \n",
    "    subprocess.call(['python', 'main.py', '--size', str(size), '--siter', str(epochs), '--diter', str(dyn_epochs), '--workers', str(workers), '--train', str(train), '--opath', str(o_path)])"
   ]
  },
  {
   "cell_type": "code",
   "execution_count": null,
   "metadata": {},
   "outputs": [],
   "source": []
  }
 ],
 "metadata": {
  "kernelspec": {
   "display_name": "env1",
   "language": "python",
   "name": "env1"
  },
  "language_info": {
   "codemirror_mode": {
    "name": "ipython",
    "version": 3
   },
   "file_extension": ".py",
   "mimetype": "text/x-python",
   "name": "python",
   "nbconvert_exporter": "python",
   "pygments_lexer": "ipython3",
   "version": "3.6.8"
  }
 },
 "nbformat": 4,
 "nbformat_minor": 2
}
